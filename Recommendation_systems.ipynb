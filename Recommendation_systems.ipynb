{
 "cells": [
  {
   "cell_type": "code",
   "execution_count": null,
   "metadata": {},
   "outputs": [],
   "source": []
  }
 ],
 "metadata": {
  "kernelspec": {
   "display_name": "Python 3.6.13 ('cuda90')",
   "language": "python",
   "name": "python3"
  },
  "language_info": {
   "name": "python",
   "version": "3.6.13"
  },
  "orig_nbformat": 4,
  "vscode": {
   "interpreter": {
    "hash": "97d9c17b606b9b62b06895f5ddf92918bb8468bee953aa46df18123c9a280f17"
   }
  }
 },
 "nbformat": 4,
 "nbformat_minor": 2
}
